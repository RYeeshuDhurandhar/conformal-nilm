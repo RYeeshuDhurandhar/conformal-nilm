{
 "cells": [
  {
   "cell_type": "code",
   "execution_count": 7,
   "metadata": {},
   "outputs": [
    {
     "name": "stdout",
     "output_type": "stream",
     "text": [
      "Sum of elements greater than labels:\n",
      "[0 1 3 1 3]\n"
     ]
    }
   ],
   "source": [
    "import numpy as np\n",
    "np.random.seed(0)\n",
    "# Example data\n",
    "n = 5  # Number of rows\n",
    "m = 4  # Number of columns\n",
    "cal_smx = np.random.rand(n, m)  # Random data for cal_smx\n",
    "labels_smx = np.random.rand(n)  # Random data for labels_smx\n",
    "\n",
    "# Calculate the sum of elements greater than labels_smx for each row\n",
    "row_sums = np.sum(cal_smx > labels_smx[:, np.newaxis], axis=1)\n",
    "\n",
    "print(\"Sum of elements greater than labels:\")\n",
    "print(row_sums)\n"
   ]
  },
  {
   "cell_type": "code",
   "execution_count": 6,
   "metadata": {},
   "outputs": [
    {
     "data": {
      "text/plain": [
       "array([0.891773  , 0.96366276, 0.79172504, 0.52889492, 0.92559664,\n",
       "       0.83261985, 0.77815675, 0.87001215])"
      ]
     },
     "execution_count": 6,
     "metadata": {},
     "output_type": "execute_result"
    }
   ],
   "source": [
    "cal_smx[cal_smx > labels_smx[:, np.newaxis]]"
   ]
  },
  {
   "cell_type": "code",
   "execution_count": 9,
   "metadata": {},
   "outputs": [
    {
     "data": {
      "text/plain": [
       "array([[False, False, False, False],\n",
       "       [False, False, False,  True],\n",
       "       [ True, False,  True,  True],\n",
       "       [False,  True, False, False],\n",
       "       [False,  True,  True,  True]])"
      ]
     },
     "execution_count": 9,
     "metadata": {},
     "output_type": "execute_result"
    }
   ],
   "source": [
    "cal_smx > labels_smx[:, np.newaxis]"
   ]
  },
  {
   "cell_type": "code",
   "execution_count": 2,
   "metadata": {},
   "outputs": [
    {
     "name": "stdout",
     "output_type": "stream",
     "text": [
      "[0.02  0.132 0.241 0.235 0.083 0.018 0.035 0.069 0.081 0.086]\n",
      "Sum: 1.0\n"
     ]
    }
   ],
   "source": [
    "import numpy as np\n",
    "\n",
    "# Generate random numbers\n",
    "numbers = np.random.randint(1, 1000, size=10)  # Generate integers between 1 and 1000\n",
    "\n",
    "# Normalize the numbers to make the sum 1\n",
    "normalized_numbers = numbers / np.sum(numbers)\n",
    "\n",
    "# Round the normalized numbers to 3 decimal places\n",
    "rounded_numbers = np.round(normalized_numbers, 3)\n",
    "\n",
    "# Adjust the last number to ensure the sum is exactly 1\n",
    "rounded_numbers[-1] += 1 - np.sum(rounded_numbers)\n",
    "\n",
    "print(rounded_numbers)\n",
    "print(\"Sum:\", np.sum(rounded_numbers))"
   ]
  },
  {
   "cell_type": "code",
   "execution_count": null,
   "metadata": {},
   "outputs": [],
   "source": []
  }
 ],
 "metadata": {
  "kernelspec": {
   "display_name": "pc1",
   "language": "python",
   "name": "python3"
  },
  "language_info": {
   "codemirror_mode": {
    "name": "ipython",
    "version": 3
   },
   "file_extension": ".py",
   "mimetype": "text/x-python",
   "name": "python",
   "nbconvert_exporter": "python",
   "pygments_lexer": "ipython3",
   "version": "3.11.4"
  },
  "orig_nbformat": 4
 },
 "nbformat": 4,
 "nbformat_minor": 2
}
