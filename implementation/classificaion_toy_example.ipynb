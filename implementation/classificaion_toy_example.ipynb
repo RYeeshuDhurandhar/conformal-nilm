{
 "cells": [
  {
   "cell_type": "markdown",
   "metadata": {},
   "source": [
    "Note: This notebook is inspired by: [GitHub Repository](https://github.com/aangelopoulos/conformal-prediction/blob/main/notebooks/imagenet-smallest-sets.ipynb)"
   ]
  },
  {
   "cell_type": "code",
   "execution_count": 1,
   "metadata": {},
   "outputs": [
    {
     "name": "stdout",
     "output_type": "stream",
     "text": [
      "Requirement already satisfied: gdown in c:\\users\\ryees\\anaconda3\\envs\\pc1\\lib\\site-packages (4.7.1)\n",
      "Requirement already satisfied: filelock in c:\\users\\ryees\\anaconda3\\envs\\pc1\\lib\\site-packages (from gdown) (3.9.0)\n",
      "Requirement already satisfied: requests[socks] in c:\\users\\ryees\\anaconda3\\envs\\pc1\\lib\\site-packages (from gdown) (2.31.0)\n",
      "Requirement already satisfied: six in c:\\users\\ryees\\anaconda3\\envs\\pc1\\lib\\site-packages (from gdown) (1.16.0)\n",
      "Requirement already satisfied: tqdm in c:\\users\\ryees\\anaconda3\\envs\\pc1\\lib\\site-packages (from gdown) (4.66.1)\n",
      "Requirement already satisfied: beautifulsoup4 in c:\\users\\ryees\\anaconda3\\envs\\pc1\\lib\\site-packages (from gdown) (4.12.2)\n",
      "Requirement already satisfied: soupsieve>1.2 in c:\\users\\ryees\\anaconda3\\envs\\pc1\\lib\\site-packages (from beautifulsoup4->gdown) (2.4.1)\n",
      "Requirement already satisfied: charset-normalizer<4,>=2 in c:\\users\\ryees\\anaconda3\\envs\\pc1\\lib\\site-packages (from requests[socks]->gdown) (3.2.0)\n",
      "Requirement already satisfied: idna<4,>=2.5 in c:\\users\\ryees\\anaconda3\\envs\\pc1\\lib\\site-packages (from requests[socks]->gdown) (3.4)\n",
      "Requirement already satisfied: urllib3<3,>=1.21.1 in c:\\users\\ryees\\anaconda3\\envs\\pc1\\lib\\site-packages (from requests[socks]->gdown) (2.0.4)\n",
      "Requirement already satisfied: certifi>=2017.4.17 in c:\\users\\ryees\\anaconda3\\envs\\pc1\\lib\\site-packages (from requests[socks]->gdown) (2020.6.20)\n",
      "Requirement already satisfied: PySocks!=1.5.7,>=1.5.6 in c:\\users\\ryees\\anaconda3\\envs\\pc1\\lib\\site-packages (from requests[socks]->gdown) (1.7.1)\n",
      "Requirement already satisfied: colorama in c:\\users\\ryees\\anaconda3\\envs\\pc1\\lib\\site-packages (from tqdm->gdown) (0.4.6)\n"
     ]
    }
   ],
   "source": [
    "import os\n",
    "import json\n",
    "import numpy as np\n",
    "import matplotlib.pyplot as plt\n",
    "from matplotlib.image import imread\n",
    "!pip install -U --no-cache-dir gdown --pre\n",
    "\n",
    "np.random.seed(42)  # Set a random seed for reproducibility"
   ]
  },
  {
   "cell_type": "code",
   "execution_count": 37,
   "metadata": {},
   "outputs": [
    {
     "data": {
      "text/plain": [
       "0.25"
      ]
     },
     "execution_count": 37,
     "metadata": {},
     "output_type": "execute_result"
    }
   ],
   "source": [
    "data_11 = [0.7, 0.9, 0.45, 0.25, 0.99, 0.29, 0.95, 0.7, 0.22, 0.4, 0.5]\n",
    "np.quantile(data_11, 0.1)\n",
    "print(sorted(data))"
   ]
  },
  {
   "cell_type": "code",
   "execution_count": 51,
   "metadata": {},
   "outputs": [
    {
     "name": "stdout",
     "output_type": "stream",
     "text": [
      "The adjusted quantile is: 0.71\n",
      "(1-q_hat):  0.29000000000000004\n"
     ]
    },
    {
     "data": {
      "text/plain": [
       "array([ True,  True,  True, False,  True, False,  True,  True, False,\n",
       "        True])"
      ]
     },
     "execution_count": 51,
     "metadata": {},
     "output_type": "execute_result"
    }
   ],
   "source": [
    "# Step1: find the scores corresponding to correct label for each image\n",
    "n=10          # number of calibration points\n",
    "alpha = 0.4     # 1-alpha is the desired coverage\n",
    "\n",
    "data = np.array([0.7, 0.9, 0.45, 0.25, 0.99, 0.29, 0.95, 0.7, 0.20, 0.99])\n",
    "cal_scores = 1-data\n",
    "\n",
    "# Step2: finding the alpha quantile\n",
    "q_level = np.ceil((n+1)*(1-alpha))/n\n",
    "q_hat = np.quantile(cal_scores, q_level, interpolation='higher')\n",
    "print(f\"The adjusted quantile is: {q_hat}\")\n",
    "\n",
    "# Step3: finding the prediction sets\n",
    "prediction_sets = (data >= (1-q_hat))\n",
    "print(\"(1-q_hat): \", (1-q_hat))\n",
    "prediction_sets"
   ]
  }
 ],
 "metadata": {
  "kernelspec": {
   "display_name": "Python 3 (ipykernel)",
   "language": "python",
   "name": "python3"
  },
  "language_info": {
   "codemirror_mode": {
    "name": "ipython",
    "version": 3
   },
   "file_extension": ".py",
   "mimetype": "text/x-python",
   "name": "python",
   "nbconvert_exporter": "python",
   "pygments_lexer": "ipython3",
   "version": "3.11.4"
  }
 },
 "nbformat": 4,
 "nbformat_minor": 4
}
